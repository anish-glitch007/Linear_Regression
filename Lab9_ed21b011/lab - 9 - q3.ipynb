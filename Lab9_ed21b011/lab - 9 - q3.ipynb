{
 "cells": [
  {
   "attachments": {},
   "cell_type": "markdown",
   "metadata": {},
   "source": [
    "\n",
    "AlexNet: AlexNet is a convolutional neural network (CNN) architecture that won the ImageNet Large Scale Visual Recognition Challenge in 2012. It was designed by Alex Krizhevsky, Ilya Sutskever, and Geoffrey Hinton. AlexNet introduced several new techniques that improved the performance of CNNs, such as the use of Rectified Linear Units (ReLU) for activation and the use of dropout to prevent overfitting.\n",
    "\n",
    "ImageNet: ImageNet is a large-scale image recognition dataset, containing more than 14 million labeled images in over 20,000 categories. The dataset is used to train and evaluate image recognition models, and it has been instrumental in advancing the field of computer vision.\n",
    "\n",
    "ShapeNet: ShapeNet is a large-scale 3D shape repository that contains over 50,000 3D models in 55 object categories. The dataset is used for 3D object recognition and retrieval, as well as shape analysis and synthesis.\n",
    "\n",
    "ModelNet: ModelNet is a 3D object recognition dataset that contains over 127,000 3D CAD models from 662 object categories. The dataset is used to train and evaluate deep learning models for 3D object recognition and retrieval.\n",
    "\n",
    "CADNet: CADNet is a deep learning architecture that is designed for the recognition of 3D CAD models. It is trained on the ModelNet dataset and achieves state-of-the-art performance on 3D object recognition tasks.\n",
    "\n",
    "CADSketchNet: CADSketchNet is a deep learning architecture that is designed for the recognition of 2D sketches of 3D CAD models. It is trained on the SketchyCAD dataset, which contains over 10,000 2D sketches of 200 3D CAD models. The architecture uses a combination of convolutional and recurrent neural networks to recognize the 3D shape from the 2D sketch."
   ]
  },
  {
   "cell_type": "code",
   "execution_count": null,
   "metadata": {},
   "outputs": [],
   "source": []
  }
 ],
 "metadata": {
  "language_info": {
   "name": "python"
  },
  "orig_nbformat": 4
 },
 "nbformat": 4,
 "nbformat_minor": 2
}
